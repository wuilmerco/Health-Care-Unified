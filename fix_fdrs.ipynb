{
 "cells": [
  {
   "cell_type": "code",
   "execution_count": 4,
   "id": "6326e7de-8650-4585-8992-871ae152c46f",
   "metadata": {},
   "outputs": [],
   "source": [
    "# Aqui importo las librerias que usare\n",
    "import pandas as pd\n",
    "import os\n",
    "import glob"
   ]
  },
  {
   "cell_type": "code",
   "execution_count": 5,
   "id": "a24181e1-bb18-4f1b-9316-f5f03314ccd6",
   "metadata": {},
   "outputs": [],
   "source": [
    "# Unir todos los archivos de una carpeta en un solo archivo\n",
    "# folder es el directorio donde estan los archivos a concatenar\n",
    "def unir_archivos_csv(carpeta):\n",
    "    archivos_csv = glob.glob(carpeta + \"/*.csv\")\n",
    "    dfs = []\n",
    "    for archivo in archivos_csv:\n",
    "        df = pd.read_csv(archivo)\n",
    "        dfs.append(df)\n",
    "    df_final = pd.concat(dfs, ignore_index=True)\n",
    "    df_final.to_csv(\"citas_combinadas.csv\",index=False)\n",
    "    df_final"
   ]
  },
  {
   "cell_type": "code",
   "execution_count": 6,
   "id": "7180901f-3990-49f5-8fec-92182c1a0fc6",
   "metadata": {},
   "outputs": [],
   "source": [
    "# Unir todos los archivos de una carpeta en un solo archivo\n",
    "# folder es el directorio donde estan los archivos a concatenar\n",
    "def unir_archivos_excel(carpeta):\n",
    "    archivos_excel = glob.glob(carpeta + \"/*.xlsm\")\n",
    "    dfs = []\n",
    "    for archivo in archivos_excel:\n",
    "        df = pd.read_excel(archivo, sheet_name=\"DB\", usecols=[i for i in range(29)])\n",
    "        dfs.append(df)\n",
    "    df_final = pd.concat(dfs, ignore_index=True)\n",
    "    df_final.to_csv(\"fdrs_combinados.csv\", index=False)\n",
    "    df_final"
   ]
  },
  {
   "cell_type": "code",
   "execution_count": 7,
   "id": "b8bf1522-06dd-42d0-a36a-c61c48c97ae8",
   "metadata": {},
   "outputs": [],
   "source": [
    "#unir_archivos_csv(\"visits/\")"
   ]
  },
  {
   "cell_type": "code",
   "execution_count": 10,
   "id": "4b093f69-6926-4cb3-9831-8492c0275f8d",
   "metadata": {
    "scrolled": true
   },
   "outputs": [
    {
     "name": "stderr",
     "output_type": "stream",
     "text": [
      "C:\\Users\\wuilm\\Projects\\Env\\data\\Lib\\site-packages\\openpyxl\\worksheet\\_reader.py:329: UserWarning: Data Validation extension is not supported and will be removed\n",
      "  warn(msg)\n"
     ]
    }
   ],
   "source": [
    "unir_archivos_excel(\"join/\")"
   ]
  },
  {
   "cell_type": "code",
   "execution_count": 12,
   "id": "8c8038e0-f37b-404c-9828-491af14d502d",
   "metadata": {},
   "outputs": [],
   "source": [
    "def unir_patients(carpeta):\n",
    "    archivos_excel = glob.glob(carpeta + \"/*.csv\")\n",
    "    dfs = []\n",
    "    for archivo in archivos_excel:\n",
    "        df = pd.read_csv(archivo, encoding='latin-1')\n",
    "        dfs.append(df)\n",
    "    df_final = pd.concat(dfs, ignore_index=True)\n",
    "    df_final.to_csv(\"patients_combinados.csv\", index=False)\n",
    "    df_final"
   ]
  },
  {
   "cell_type": "code",
   "execution_count": 13,
   "id": "f9074e69-d1b7-4e10-b1d9-f3c5f0795b73",
   "metadata": {},
   "outputs": [],
   "source": [
    "unir_patients(\"patients/\")"
   ]
  },
  {
   "cell_type": "code",
   "execution_count": null,
   "id": "93b9be14-b60d-4e39-97c3-24f093d2413d",
   "metadata": {},
   "outputs": [],
   "source": []
  }
 ],
 "metadata": {
  "kernelspec": {
   "display_name": "Python 3 (ipykernel)",
   "language": "python",
   "name": "python3"
  },
  "language_info": {
   "codemirror_mode": {
    "name": "ipython",
    "version": 3
   },
   "file_extension": ".py",
   "mimetype": "text/x-python",
   "name": "python",
   "nbconvert_exporter": "python",
   "pygments_lexer": "ipython3",
   "version": "3.12.2"
  }
 },
 "nbformat": 4,
 "nbformat_minor": 5
}
